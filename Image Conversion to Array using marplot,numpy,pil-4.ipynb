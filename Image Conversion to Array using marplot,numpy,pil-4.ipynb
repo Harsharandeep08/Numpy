{
 "cells": [
  {
   "cell_type": "code",
   "execution_count": null,
   "id": "c6480113",
   "metadata": {},
   "outputs": [],
   "source": [
    "# images are converted to pixel\n",
    "#image-array-pixel\n",
    "# every pixel range is 0 to 255\n",
    "#0- black\n",
    "#255-brighten'dark red color - 200-255\n",
    "#light red color-0-20\n",
    "#2d channel-black and white\n",
    "#3d channel - r,g,b(red,green,blue)\n",
    "#rainbow nature create this color\n",
    "#gray_scale - not colored\n",
    "#colord image - colorful images"
   ]
  },
  {
   "cell_type": "code",
   "execution_count": null,
   "id": "e202bce5",
   "metadata": {},
   "outputs": [],
   "source": [
    "import numpy as np # for ndarray"
   ]
  },
  {
   "cell_type": "code",
   "execution_count": null,
   "id": "63e1b96c",
   "metadata": {},
   "outputs": [],
   "source": [
    "ones_arr=np.ones((3,3))"
   ]
  },
  {
   "cell_type": "code",
   "execution_count": null,
   "id": "4b576758",
   "metadata": {},
   "outputs": [],
   "source": [
    "ones_arr"
   ]
  },
  {
   "cell_type": "code",
   "execution_count": null,
   "id": "037307d6",
   "metadata": {},
   "outputs": [],
   "source": [
    "ones_arr=np.ones((5,5),dtype=int)"
   ]
  },
  {
   "cell_type": "code",
   "execution_count": null,
   "id": "65f286a3",
   "metadata": {},
   "outputs": [],
   "source": [
    "ones_arr"
   ]
  },
  {
   "cell_type": "raw",
   "id": "6d4a8d6f",
   "metadata": {},
   "source": [
    "ones_arr * 255"
   ]
  },
  {
   "cell_type": "code",
   "execution_count": null,
   "id": "bec76076",
   "metadata": {},
   "outputs": [],
   "source": [
    "ones_arr * 255 # in array in matrix we can change the number of array"
   ]
  },
  {
   "cell_type": "code",
   "execution_count": null,
   "id": "6fa1fffa",
   "metadata": {},
   "outputs": [],
   "source": [
    "ones_arr"
   ]
  },
  {
   "cell_type": "code",
   "execution_count": null,
   "id": "dd4ae75a",
   "metadata": {},
   "outputs": [],
   "source": [
    "import matplotlib.pyplot as plt # for visualisation"
   ]
  },
  {
   "cell_type": "code",
   "execution_count": null,
   "id": "77a4b5ab",
   "metadata": {},
   "outputs": [],
   "source": [
    "%matplotlib inline # inline-all graph has done inside the boundary line"
   ]
  },
  {
   "cell_type": "code",
   "execution_count": null,
   "id": "313ccf46",
   "metadata": {},
   "outputs": [],
   "source": [
    "from PIL import Image # pil-refering image library- helps developer to read image"
   ]
  },
  {
   "cell_type": "code",
   "execution_count": null,
   "id": "af9c309d",
   "metadata": {},
   "outputs": [],
   "source": [
    "nat_img=Image.open(r\"/Users/harsharamansangha/Desktop/R.jpeg\")"
   ]
  },
  {
   "cell_type": "code",
   "execution_count": null,
   "id": "c8c6ee67",
   "metadata": {},
   "outputs": [],
   "source": [
    "nat_img"
   ]
  },
  {
   "cell_type": "code",
   "execution_count": null,
   "id": "8c2122f5",
   "metadata": {},
   "outputs": [],
   "source": [
    "type(nat_img)"
   ]
  },
  {
   "cell_type": "code",
   "execution_count": null,
   "id": "d6bd56d3",
   "metadata": {},
   "outputs": [],
   "source": [
    "nat_arr=np.asarray(nat_img) # to know the image size\n",
    "nat_arr"
   ]
  },
  {
   "cell_type": "code",
   "execution_count": null,
   "id": "f3bb84d2",
   "metadata": {},
   "outputs": [],
   "source": [
    "type(nat_arr)"
   ]
  },
  {
   "cell_type": "code",
   "execution_count": null,
   "id": "dbcaf673",
   "metadata": {},
   "outputs": [],
   "source": [
    "plt.imshow(nat_arr)"
   ]
  },
  {
   "cell_type": "code",
   "execution_count": null,
   "id": "63c58477",
   "metadata": {},
   "outputs": [],
   "source": [
    "nat_arr.shape  # check the shape of image height,width,3d channel-r g b"
   ]
  },
  {
   "cell_type": "code",
   "execution_count": null,
   "id": "4ce27bc6",
   "metadata": {},
   "outputs": [],
   "source": [
    "nat_red = nat_arr.copy()"
   ]
  },
  {
   "cell_type": "code",
   "execution_count": null,
   "id": "fb54c2d7",
   "metadata": {},
   "outputs": [],
   "source": [
    "nat_red"
   ]
  },
  {
   "cell_type": "code",
   "execution_count": null,
   "id": "cbb475c8",
   "metadata": {},
   "outputs": [],
   "source": [
    "nat_arr == nat_red"
   ]
  },
  {
   "cell_type": "code",
   "execution_count": null,
   "id": "fc0ec989",
   "metadata": {},
   "outputs": [],
   "source": [
    "plt.imshow(nat_red)"
   ]
  },
  {
   "cell_type": "code",
   "execution_count": null,
   "id": "2516366a",
   "metadata": {},
   "outputs": [],
   "source": [
    "nat_red.shape"
   ]
  },
  {
   "cell_type": "code",
   "execution_count": null,
   "id": "b2638116",
   "metadata": {},
   "outputs": [],
   "source": [
    "#rgb\n",
    "plt.imshow(nat_red[:,:,0])"
   ]
  },
  {
   "cell_type": "code",
   "execution_count": null,
   "id": "f5bc0c22",
   "metadata": {},
   "outputs": [],
   "source": [
    "nat_red[:,:,0]"
   ]
  },
  {
   "cell_type": "code",
   "execution_count": null,
   "id": "653ac277",
   "metadata": {},
   "outputs": [],
   "source": [
    "plt.imshow(nat_red[:,:,1])"
   ]
  },
  {
   "cell_type": "code",
   "execution_count": null,
   "id": "48cd483e",
   "metadata": {},
   "outputs": [],
   "source": [
    "plt.imshow(nat_red[:,:,2])"
   ]
  },
  {
   "cell_type": "code",
   "execution_count": null,
   "id": "82e2933b",
   "metadata": {},
   "outputs": [],
   "source": [
    "plt.imshow(nat_red[:,:,3])"
   ]
  },
  {
   "cell_type": "code",
   "execution_count": null,
   "id": "27443d3f",
   "metadata": {},
   "outputs": [],
   "source": [
    "plt.imshow(nat_red[:,:,0],cmap='Greys')"
   ]
  },
  {
   "cell_type": "code",
   "execution_count": null,
   "id": "918dc78d",
   "metadata": {},
   "outputs": [],
   "source": [
    "plt.imshow(nat_red[:,:,0],cmap='gray')"
   ]
  },
  {
   "cell_type": "code",
   "execution_count": null,
   "id": "90dd9d2f",
   "metadata": {},
   "outputs": [],
   "source": [
    "plt.imshow(nat_red[:,:,0],cmap='Oranges_r')"
   ]
  },
  {
   "cell_type": "code",
   "execution_count": null,
   "id": "783d54ab",
   "metadata": {},
   "outputs": [],
   "source": [
    "from matplotlib import colormaps\n",
    "list(colormaps)"
   ]
  },
  {
   "cell_type": "code",
   "execution_count": null,
   "id": "1c530c8b",
   "metadata": {},
   "outputs": [],
   "source": [
    "plt.imshow(nat_red[:,:,0],cmap='YlGn')"
   ]
  },
  {
   "cell_type": "code",
   "execution_count": null,
   "id": "04325f60",
   "metadata": {},
   "outputs": [],
   "source": [
    "nat_red[:,:,0]"
   ]
  },
  {
   "cell_type": "code",
   "execution_count": null,
   "id": "eb705adb",
   "metadata": {},
   "outputs": [],
   "source": [
    "nat_red[:,:,1]"
   ]
  },
  {
   "cell_type": "code",
   "execution_count": null,
   "id": "7f612916",
   "metadata": {},
   "outputs": [],
   "source": [
    "nat_red[:,:,2]"
   ]
  },
  {
   "cell_type": "code",
   "execution_count": null,
   "id": "ea6c77d3",
   "metadata": {},
   "outputs": [],
   "source": [
    "nat_red[:,:,1]=0 # set green channel to zero"
   ]
  },
  {
   "cell_type": "code",
   "execution_count": null,
   "id": "583041cf",
   "metadata": {},
   "outputs": [],
   "source": [
    "nat_red[:,:,1]"
   ]
  },
  {
   "cell_type": "code",
   "execution_count": null,
   "id": "eab2faa5",
   "metadata": {},
   "outputs": [],
   "source": [
    "plt.imshow(nat_red)"
   ]
  },
  {
   "cell_type": "code",
   "execution_count": null,
   "id": "a4d0f8e7",
   "metadata": {},
   "outputs": [],
   "source": [
    "nat_red[:,:,2]"
   ]
  },
  {
   "cell_type": "code",
   "execution_count": null,
   "id": "8d487607",
   "metadata": {},
   "outputs": [],
   "source": [
    "nat_red[:,:,2]=0 #set blue channel to zero"
   ]
  },
  {
   "cell_type": "code",
   "execution_count": null,
   "id": "c37287f6",
   "metadata": {},
   "outputs": [],
   "source": [
    "nat_red[:,:,2]"
   ]
  },
  {
   "cell_type": "code",
   "execution_count": null,
   "id": "3139e14f",
   "metadata": {},
   "outputs": [],
   "source": [
    "plt.imshow(nat_red)"
   ]
  },
  {
   "cell_type": "code",
   "execution_count": null,
   "id": "0d520601",
   "metadata": {},
   "outputs": [],
   "source": [
    "nat_arr"
   ]
  },
  {
   "cell_type": "code",
   "execution_count": null,
   "id": "a6c646e8",
   "metadata": {},
   "outputs": [],
   "source": [
    "nat_red"
   ]
  },
  {
   "cell_type": "code",
   "execution_count": null,
   "id": "0655fdc8",
   "metadata": {},
   "outputs": [],
   "source": [
    "nat_img"
   ]
  },
  {
   "cell_type": "code",
   "execution_count": null,
   "id": "24abed8b",
   "metadata": {},
   "outputs": [],
   "source": [
    "arr1=np.asarray(nat_img)"
   ]
  },
  {
   "cell_type": "code",
   "execution_count": null,
   "id": "10f94ede",
   "metadata": {},
   "outputs": [],
   "source": [
    "plt.imshow(arr1)"
   ]
  },
  {
   "cell_type": "code",
   "execution_count": null,
   "id": "e2d07578",
   "metadata": {},
   "outputs": [],
   "source": [
    "nat_img1=arr1.copy()"
   ]
  },
  {
   "cell_type": "code",
   "execution_count": null,
   "id": "01cd27df",
   "metadata": {},
   "outputs": [],
   "source": [
    "nat_img1[:,:,0]=0 # set red channel to zero"
   ]
  },
  {
   "cell_type": "code",
   "execution_count": null,
   "id": "b3c2f5b6",
   "metadata": {},
   "outputs": [],
   "source": [
    "plt.imshow(nat_img1)"
   ]
  },
  {
   "cell_type": "code",
   "execution_count": null,
   "id": "22a69c35",
   "metadata": {},
   "outputs": [],
   "source": [
    "nat_img1[:,:,1]=0 # set green channel to zero"
   ]
  },
  {
   "cell_type": "code",
   "execution_count": null,
   "id": "cec33593",
   "metadata": {},
   "outputs": [],
   "source": [
    "plt.imshow(nat_img1)"
   ]
  },
  {
   "cell_type": "code",
   "execution_count": null,
   "id": "4c47cb6b",
   "metadata": {},
   "outputs": [],
   "source": [
    "nat_img"
   ]
  },
  {
   "cell_type": "code",
   "execution_count": null,
   "id": "66f23327",
   "metadata": {},
   "outputs": [],
   "source": [
    "plt.imshow(np.flip(nat_img))\n",
    "plt.show()"
   ]
  },
  {
   "cell_type": "code",
   "execution_count": null,
   "id": "fc4da522",
   "metadata": {},
   "outputs": [],
   "source": [
    "plt.imshow(np.rot90(nat_img))\n",
    "plt.show()"
   ]
  },
  {
   "cell_type": "code",
   "execution_count": null,
   "id": "2a8edfac",
   "metadata": {},
   "outputs": [],
   "source": []
  }
 ],
 "metadata": {
  "kernelspec": {
   "display_name": "Python 3 (ipykernel)",
   "language": "python",
   "name": "python3"
  },
  "language_info": {
   "codemirror_mode": {
    "name": "ipython",
    "version": 3
   },
   "file_extension": ".py",
   "mimetype": "text/x-python",
   "name": "python",
   "nbconvert_exporter": "python",
   "pygments_lexer": "ipython3",
   "version": "3.9.13"
  }
 },
 "nbformat": 4,
 "nbformat_minor": 5
}
